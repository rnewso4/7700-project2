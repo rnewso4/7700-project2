{
 "cells": [
  {
   "cell_type": "markdown",
   "id": "59829427-30a9-4514-a62c-d6ba8f649aa5",
   "metadata": {},
   "source": [
    "<h1>1. GRU Model</h1>"
   ]
  },
  {
   "cell_type": "code",
   "execution_count": 1,
   "id": "e2ca864b-f079-4244-8170-645e22d149d4",
   "metadata": {},
   "outputs": [],
   "source": [
    "from main import add_special_tokens, merge_text_files\n",
    "from gru_module import GRUModule\n",
    "import torch\n",
    "import sentencepiece as spm\n",
    "\n",
    "# Example of the paramteres for add special tokens\n",
    "pairs = [\n",
    "    (\"Hello, how are you\", \"I am fine.\"),\n",
    "    (\"What is your name?\", \"My name is AI!\"),\n",
    "    (\"Tell me a joke\", \"Why don't scientists trust atoms? Because they make up everything.\"),\n",
    "    (\"The quick brown fox\", \"jumps over the lazy dog!\")\n",
    "]\n",
    "\n",
    "new_prompts, new_completions = add_special_tokens(pairs)\n",
    "\n",
    "# Example of the parameters for merge_text_files\n",
    "# merge_text_files()"
   ]
  },
  {
   "cell_type": "code",
   "execution_count": 2,
   "id": "86be4b1b-ea6f-4187-be68-92b5446c7ccb",
   "metadata": {
    "scrolled": true
   },
   "outputs": [],
   "source": [
    "# Example of using the GRU model\n",
    "from gru_module import GRUModule\n",
    "import torch\n",
    "import sentencepiece as spm\n",
    "from transformers import BertTokenizer  # Or any other tokenizer you prefer\n",
    "\n",
    "# Trained tokenizer\n",
    "sp = spm.SentencePieceProcessor()\n",
    "model_prefix = \"bpe_tokenizer\"\n",
    "sp.load(f'{model_prefix}.model')\n",
    "tokenizer = sp\n",
    "\n",
    "device = \"mps\"\n",
    "# gru_model = GRUModule(tokenizer.get_piece_size())\n",
    "# gru_model.to(device)\n",
    "\n",
    "#tokenizer = BertTokenizer.from_pretrained('bert-base-uncased')\n",
    "\n",
    "# Example usage of the generate method\n",
    "# prompt = \"Always corner come inside.\"\n",
    "# generated_text = gru_model.generate(tokenizer, prompt, max_length=50, eos_token_id=None, temperature=1.0, device=device)\n",
    "# print(f\"Generated text: {generated_text}\")"
   ]
  },
  {
   "cell_type": "markdown",
   "id": "0dcaeb44-5391-42d0-80c2-54ad105117d6",
   "metadata": {},
   "source": [
    "<h3>Load model</h3>"
   ]
  },
  {
   "cell_type": "code",
   "execution_count": 3,
   "id": "48aa5083-3f47-403d-830b-cfb7767f8f36",
   "metadata": {},
   "outputs": [
    {
     "data": {
      "text/plain": [
       "<All keys matched successfully>"
      ]
     },
     "execution_count": 3,
     "metadata": {},
     "output_type": "execute_result"
    }
   ],
   "source": [
    "from gru_module import GRUModule\n",
    "import torch\n",
    "import sentencepiece as spm\n",
    "from pathlib import Path\n",
    "\n",
    "MODEL_PATH = Path(\"models\")\n",
    "MODEL_NAME = \"gru_language_model.pth\"\n",
    "MODEL_SAVE_PATH = MODEL_PATH / MODEL_NAME\n",
    "\n",
    "gru_model = GRUModule(sp.get_piece_size()).to(\"mps\")\n",
    "\n",
    "# Load the saved state_dict of module_0 \n",
    "gru_model.load_state_dict(torch.load(f=MODEL_SAVE_PATH, weights_only=True))"
   ]
  },
  {
   "cell_type": "code",
   "execution_count": 4,
   "id": "6dcd2504-6997-4a18-b063-10948d14b8b7",
   "metadata": {},
   "outputs": [
    {
     "name": "stdout",
     "output_type": "stream",
     "text": [
      "Epoch 1/3\n",
      "-------------------------------\n",
      "Length of training set: 310\n"
     ]
    },
    {
     "ename": "KeyboardInterrupt",
     "evalue": "",
     "output_type": "error",
     "traceback": [
      "\u001b[0;31m---------------------------------------------------------------------------\u001b[0m",
      "\u001b[0;31mKeyboardInterrupt\u001b[0m                         Traceback (most recent call last)",
      "Cell \u001b[0;32mIn[4], line 4\u001b[0m\n\u001b[1;32m      1\u001b[0m \u001b[38;5;28;01mfrom\u001b[39;00m \u001b[38;5;21;01mtextdataset\u001b[39;00m \u001b[38;5;28;01mimport\u001b[39;00m TextDataSet\n\u001b[1;32m      2\u001b[0m \u001b[38;5;28;01mimport\u001b[39;00m \u001b[38;5;21;01mos\u001b[39;00m\n\u001b[0;32m----> 4\u001b[0m tds \u001b[38;5;241m=\u001b[39m TextDataSet(os\u001b[38;5;241m.\u001b[39mgetcwd()\u001b[38;5;241m+\u001b[39m\u001b[38;5;124m\"\u001b[39m\u001b[38;5;124m/data/train.jsonl\u001b[39m\u001b[38;5;124m\"\u001b[39m, sp)\u001b[38;5;241m.\u001b[39mtrain_model(gru_model)\n",
      "File \u001b[0;32m~/Desktop/7700-project2/textdataset.py:118\u001b[0m, in \u001b[0;36mTextDataSet.train_model\u001b[0;34m(self, model, epochs)\u001b[0m\n\u001b[1;32m    116\u001b[0m \u001b[38;5;66;03m# apply cross entropy\u001b[39;00m\n\u001b[1;32m    117\u001b[0m loss \u001b[38;5;241m=\u001b[39m criterion(logits\u001b[38;5;241m.\u001b[39mview(\u001b[38;5;241m-\u001b[39m\u001b[38;5;241m1\u001b[39m, vocab_size), target_ids\u001b[38;5;241m.\u001b[39mview(\u001b[38;5;241m-\u001b[39m\u001b[38;5;241m1\u001b[39m))\n\u001b[0;32m--> 118\u001b[0m loss\u001b[38;5;241m.\u001b[39mbackward()\n\u001b[1;32m    119\u001b[0m optimizer\u001b[38;5;241m.\u001b[39mstep()\n\u001b[1;32m    121\u001b[0m total_train_loss \u001b[38;5;241m+\u001b[39m\u001b[38;5;241m=\u001b[39m loss\u001b[38;5;241m.\u001b[39mitem()\n",
      "File \u001b[0;32m/opt/anaconda3/lib/python3.12/site-packages/torch/_tensor.py:581\u001b[0m, in \u001b[0;36mTensor.backward\u001b[0;34m(self, gradient, retain_graph, create_graph, inputs)\u001b[0m\n\u001b[1;32m    571\u001b[0m \u001b[38;5;28;01mif\u001b[39;00m has_torch_function_unary(\u001b[38;5;28mself\u001b[39m):\n\u001b[1;32m    572\u001b[0m     \u001b[38;5;28;01mreturn\u001b[39;00m handle_torch_function(\n\u001b[1;32m    573\u001b[0m         Tensor\u001b[38;5;241m.\u001b[39mbackward,\n\u001b[1;32m    574\u001b[0m         (\u001b[38;5;28mself\u001b[39m,),\n\u001b[0;32m   (...)\u001b[0m\n\u001b[1;32m    579\u001b[0m         inputs\u001b[38;5;241m=\u001b[39minputs,\n\u001b[1;32m    580\u001b[0m     )\n\u001b[0;32m--> 581\u001b[0m torch\u001b[38;5;241m.\u001b[39mautograd\u001b[38;5;241m.\u001b[39mbackward(\n\u001b[1;32m    582\u001b[0m     \u001b[38;5;28mself\u001b[39m, gradient, retain_graph, create_graph, inputs\u001b[38;5;241m=\u001b[39minputs\n\u001b[1;32m    583\u001b[0m )\n",
      "File \u001b[0;32m/opt/anaconda3/lib/python3.12/site-packages/torch/autograd/__init__.py:347\u001b[0m, in \u001b[0;36mbackward\u001b[0;34m(tensors, grad_tensors, retain_graph, create_graph, grad_variables, inputs)\u001b[0m\n\u001b[1;32m    342\u001b[0m     retain_graph \u001b[38;5;241m=\u001b[39m create_graph\n\u001b[1;32m    344\u001b[0m \u001b[38;5;66;03m# The reason we repeat the same comment below is that\u001b[39;00m\n\u001b[1;32m    345\u001b[0m \u001b[38;5;66;03m# some Python versions print out the first line of a multi-line function\u001b[39;00m\n\u001b[1;32m    346\u001b[0m \u001b[38;5;66;03m# calls in the traceback and some print out the last line\u001b[39;00m\n\u001b[0;32m--> 347\u001b[0m _engine_run_backward(\n\u001b[1;32m    348\u001b[0m     tensors,\n\u001b[1;32m    349\u001b[0m     grad_tensors_,\n\u001b[1;32m    350\u001b[0m     retain_graph,\n\u001b[1;32m    351\u001b[0m     create_graph,\n\u001b[1;32m    352\u001b[0m     inputs,\n\u001b[1;32m    353\u001b[0m     allow_unreachable\u001b[38;5;241m=\u001b[39m\u001b[38;5;28;01mTrue\u001b[39;00m,\n\u001b[1;32m    354\u001b[0m     accumulate_grad\u001b[38;5;241m=\u001b[39m\u001b[38;5;28;01mTrue\u001b[39;00m,\n\u001b[1;32m    355\u001b[0m )\n",
      "File \u001b[0;32m/opt/anaconda3/lib/python3.12/site-packages/torch/autograd/graph.py:825\u001b[0m, in \u001b[0;36m_engine_run_backward\u001b[0;34m(t_outputs, *args, **kwargs)\u001b[0m\n\u001b[1;32m    823\u001b[0m     unregister_hooks \u001b[38;5;241m=\u001b[39m _register_logging_hooks_on_whole_graph(t_outputs)\n\u001b[1;32m    824\u001b[0m \u001b[38;5;28;01mtry\u001b[39;00m:\n\u001b[0;32m--> 825\u001b[0m     \u001b[38;5;28;01mreturn\u001b[39;00m Variable\u001b[38;5;241m.\u001b[39m_execution_engine\u001b[38;5;241m.\u001b[39mrun_backward(  \u001b[38;5;66;03m# Calls into the C++ engine to run the backward pass\u001b[39;00m\n\u001b[1;32m    826\u001b[0m         t_outputs, \u001b[38;5;241m*\u001b[39margs, \u001b[38;5;241m*\u001b[39m\u001b[38;5;241m*\u001b[39mkwargs\n\u001b[1;32m    827\u001b[0m     )  \u001b[38;5;66;03m# Calls into the C++ engine to run the backward pass\u001b[39;00m\n\u001b[1;32m    828\u001b[0m \u001b[38;5;28;01mfinally\u001b[39;00m:\n\u001b[1;32m    829\u001b[0m     \u001b[38;5;28;01mif\u001b[39;00m attach_logging_hooks:\n",
      "\u001b[0;31mKeyboardInterrupt\u001b[0m: "
     ]
    }
   ],
   "source": [
    "from textdataset import TextDataSet\n",
    "import os\n",
    "\n",
    "tds = TextDataSet(os.getcwd()+\"/data/train.jsonl\", sp).train_model(gru_model)"
   ]
  },
  {
   "cell_type": "markdown",
   "id": "5d478410-f8af-407c-8940-197f47eb12c0",
   "metadata": {},
   "source": [
    "<h3>Save Model</h3>"
   ]
  },
  {
   "cell_type": "code",
   "execution_count": null,
   "id": "f04b2aac-6621-4f87-ae48-b8404deaca30",
   "metadata": {},
   "outputs": [],
   "source": [
    "# Saving our PyTorch model\n",
    "from pathlib import Path\n",
    "\n",
    "# 1. Create model's directory\n",
    "MODEL_PATH = Path(\"models\")\n",
    "MODEL_PATH.mkdir(parents=True, exist_ok=True)\n",
    "\n",
    "# 2. Create model save path\n",
    "MODEL_NAME = \"gru_language_model.pth\"\n",
    "MODEL_SAVE_PATH = MODEL_PATH / MODEL_NAME\n",
    "\n",
    "# 3. Save the model state dict\n",
    "torch.save(obj=gru_model.state_dict(),f=MODEL_SAVE_PATH)\n",
    "print(\"saving complete\")"
   ]
  },
  {
   "cell_type": "code",
   "execution_count": null,
   "id": "2bf562d9-2949-41e1-8d86-7dfd3cb2c185",
   "metadata": {},
   "outputs": [],
   "source": [
    "# Example usage of the generate method\n",
    "prompt = \"unless he wished to show that he, too, could have an opinion, but he urged that at this point the army should unite and there await the enemy. It was plain that Armfeldt had thought out that plan long ago and now expounded it not so much to answer the questions putwhich, in fact, his plan did\"\n",
    "generated_text = gru_model.generate(sp, prompt, max_length=50, eos_token_id=None, temperature=1.0, device=\"mps\")\n",
    "print(f\"Generated text: {generated_text}\")"
   ]
  },
  {
   "cell_type": "code",
   "execution_count": null,
   "id": "603edb4a-28a5-4cbb-abec-a556d6c09b95",
   "metadata": {},
   "outputs": [],
   "source": []
  },
  {
   "cell_type": "markdown",
   "id": "7ee424d8-d5ed-4dc8-a82a-3ce8c154323e",
   "metadata": {},
   "source": [
    "<h1>2. RNN Model</h1>"
   ]
  },
  {
   "cell_type": "code",
   "execution_count": null,
   "id": "e3842bf8-3dd0-4828-a676-0b3ade84cf7e",
   "metadata": {},
   "outputs": [],
   "source": [
    "from rnn_module2 import RNNModule2\n",
    "import torch\n",
    "import sentencepiece as spm\n",
    "from transformers import BertTokenizer  # Or any other tokenizer you prefer\n",
    "\n",
    "# Trained tokenizer\n",
    "sp = spm.SentencePieceProcessor()\n",
    "model_prefix = \"bpe_tokenizer\"\n",
    "sp.load(f'{model_prefix}.model')\n",
    "tokenizer = sp\n",
    "\n",
    "device = \"mps\"\n",
    "\n",
    "rnn_model = RNNModule2(tokenizer.get_piece_size())\n",
    "rnn_model.to(device)"
   ]
  },
  {
   "cell_type": "markdown",
   "id": "00fe9edd-93fa-4845-b900-3adfd4efae79",
   "metadata": {},
   "source": [
    "<h3>Load model</h3>"
   ]
  },
  {
   "cell_type": "code",
   "execution_count": null,
   "id": "cd95aa86-62fd-4369-a32a-8baab5ed6ee7",
   "metadata": {},
   "outputs": [],
   "source": [
    "# from gru_module import GRUModule\n",
    "# import torch\n",
    "# import sentencepiece as spm\n",
    "# from pathlib import Path\n",
    "\n",
    "# MODEL_PATH = Path(\"models\")\n",
    "# MODEL_NAME = \"rnn_language_model.pth\"\n",
    "# MODEL_SAVE_PATH = MODEL_PATH / MODEL_NAME\n",
    "\n",
    "# rnn_model = RNNModule(sp.get_piece_size()).to(\"mps\")\n",
    "\n",
    "# # Load the saved state_dict of module_0 \n",
    "# rnn_model.load_state_dict(torch.load(f=MODEL_SAVE_PATH, weights_only=True))"
   ]
  },
  {
   "cell_type": "markdown",
   "id": "22bf0057-3349-465a-b81a-1d1a01284d5c",
   "metadata": {},
   "source": [
    "<h3>Train model</h3>"
   ]
  },
  {
   "cell_type": "code",
   "execution_count": null,
   "id": "26003c73-710b-4f7e-8f4b-bfd895f77875",
   "metadata": {},
   "outputs": [],
   "source": [
    "from textdataset import TextDataSet\n",
    "import os\n",
    "\n",
    "tds = TextDataSet(os.getcwd()+\"/data/train.jsonl\", sp).train_model(rnn_model)"
   ]
  },
  {
   "cell_type": "markdown",
   "id": "5670ea32-a0b2-40a2-9eb5-45f8bb72d5a8",
   "metadata": {},
   "source": [
    "<h3>Save model</h3>"
   ]
  },
  {
   "cell_type": "code",
   "execution_count": null,
   "id": "f1653d28-6bc8-4681-9c9e-75e397b768cc",
   "metadata": {},
   "outputs": [],
   "source": [
    "# # Saving our PyTorch model\n",
    "# from pathlib import Path\n",
    "\n",
    "# # 1. Create model's directory\n",
    "# MODEL_PATH = Path(\"models\")\n",
    "# MODEL_PATH.mkdir(parents=True, exist_ok=True)\n",
    "\n",
    "# # 2. Create model save path\n",
    "# MODEL_NAME = \"rnn_language_model.pth\"\n",
    "# MODEL_SAVE_PATH = MODEL_PATH / MODEL_NAME\n",
    "\n",
    "# # 3. Save the model state dict\n",
    "# torch.save(obj=rnn_model.state_dict(),f=MODEL_SAVE_PATH)\n",
    "# print(\"saving complete\")"
   ]
  },
  {
   "cell_type": "markdown",
   "id": "65e1ed00-a66d-4842-9075-d107e22d1629",
   "metadata": {},
   "source": [
    "<h3>Generate from prompt</h3>"
   ]
  },
  {
   "cell_type": "code",
   "execution_count": null,
   "id": "6aab35d7-1636-4cbf-89ef-0ad0e0c694dd",
   "metadata": {},
   "outputs": [],
   "source": [
    "# Example usage of the generate method\n",
    "prompt = \"unless he wished to show that he, too, could have an opinion, but he urged that at this point the army should unite and there await the enemy. It was plain that Armfeldt had thought out that plan long ago and now expounded it not so much to answer the questions putwhich, in fact, his plan did\"\n",
    "generated_text = rnn_model.generate(sp, prompt, max_length=50, eos_token_id=None, temperature=1.0, device=\"mps\")\n",
    "print(f\"Generated text: {generated_text}\")"
   ]
  },
  {
   "cell_type": "markdown",
   "id": "44db5c19-c9f5-4894-8e14-01e7046a061e",
   "metadata": {},
   "source": [
    "<h1>3. LSTM Model</h1>"
   ]
  },
  {
   "cell_type": "code",
   "execution_count": 1,
   "id": "8cc66e20-05c5-49c1-82d1-1fe3b33993f0",
   "metadata": {},
   "outputs": [],
   "source": [
    "from lstm_model import LSTMModule\n",
    "import torch\n",
    "import sentencepiece as spm\n",
    "\n",
    "# Trained tokenizer\n",
    "sp = spm.SentencePieceProcessor()\n",
    "model_prefix = \"bpe_tokenizer\"\n",
    "sp.load(f'{model_prefix}.model')\n",
    "tokenizer = sp\n",
    "\n",
    "device = \"mps\"\n",
    "\n",
    "# lstm_model = LSTMModule(tokenizer.get_piece_size())\n",
    "# lstm_model.to(device)"
   ]
  },
  {
   "cell_type": "markdown",
   "id": "11fa815d-0906-4bec-949e-75c4788820f1",
   "metadata": {},
   "source": [
    "<h3>Load model</h3>"
   ]
  },
  {
   "cell_type": "code",
   "execution_count": 2,
   "id": "7bed0e43-26e6-4d9e-b7d9-57621c315c3c",
   "metadata": {},
   "outputs": [
    {
     "data": {
      "text/plain": [
       "<All keys matched successfully>"
      ]
     },
     "execution_count": 2,
     "metadata": {},
     "output_type": "execute_result"
    }
   ],
   "source": [
    "import torch\n",
    "import sentencepiece as spm\n",
    "from pathlib import Path\n",
    "\n",
    "MODEL_PATH = Path(\"models\")\n",
    "MODEL_NAME = \"lstm_language_model.pth\"\n",
    "MODEL_SAVE_PATH = MODEL_PATH / MODEL_NAME\n",
    "\n",
    "lstm_model = LSTMModule(sp.get_piece_size()).to(\"mps\")\n",
    "\n",
    "# Load the saved state_dict of module_0 \n",
    "lstm_model.load_state_dict(torch.load(f=MODEL_SAVE_PATH, weights_only=True))"
   ]
  },
  {
   "cell_type": "markdown",
   "id": "e1517037-3153-4d96-9c67-2b92e1d158d4",
   "metadata": {},
   "source": [
    "<h3>Train model</h3>"
   ]
  },
  {
   "cell_type": "code",
   "execution_count": 3,
   "id": "07a43479-5cab-4cf8-a61f-6492b5f47430",
   "metadata": {},
   "outputs": [],
   "source": [
    "# from textdataset import TextDataSet\n",
    "# import os\n",
    "\n",
    "# tds = TextDataSet(os.getcwd()+\"/data/train.jsonl\", sp).train_model(lstm_model)"
   ]
  },
  {
   "cell_type": "markdown",
   "id": "6b5406eb-f3ee-435c-9bcb-6b12ec2af5b7",
   "metadata": {},
   "source": [
    "<h3>Save model</h3>"
   ]
  },
  {
   "cell_type": "code",
   "execution_count": 4,
   "id": "30d5c95b-c81c-4177-bea2-ef4776374c68",
   "metadata": {},
   "outputs": [],
   "source": [
    "# # Saving our PyTorch model\n",
    "# from pathlib import Path\n",
    "\n",
    "# # 1. Create model's directory\n",
    "# MODEL_PATH = Path(\"models\")\n",
    "# MODEL_PATH.mkdir(parents=True, exist_ok=True)\n",
    "\n",
    "# # 2. Create model save path\n",
    "# MODEL_NAME = \"lstm_language_model.pth\"\n",
    "# MODEL_SAVE_PATH = MODEL_PATH / MODEL_NAME\n",
    "\n",
    "# # 3. Save the model state dict\n",
    "# torch.save(obj=lstm_model.state_dict(),f=MODEL_SAVE_PATH)\n",
    "# print(\"saving complete\")"
   ]
  },
  {
   "cell_type": "markdown",
   "id": "3d420ba8-7471-4562-8f03-c6e6b225591d",
   "metadata": {},
   "source": [
    "<h3>Generate from promt</h3>"
   ]
  },
  {
   "cell_type": "code",
   "execution_count": 6,
   "id": "d4a36da0-056b-46a1-8375-be4793268bd6",
   "metadata": {},
   "outputs": [
    {
     "name": "stdout",
     "output_type": "stream",
     "text": [
      "Generated text: not regard to my masters, those fall is hers in my apple formsically the same soundsing nor strange springrsfather among earth, come with the throat of the Meppt hat or good service yourself I go for her father.\n"
     ]
    }
   ],
   "source": [
    "# Example usage of the generate method\n",
    "prompt = \"unless he wished to show that he, too, could have an opinion, but he urged that at this point the army should unite and there await the enemy. It was plain that Armfeldt had thought out that plan long ago and now expounded it not so much to answer the questions putwhich, in fact, his plan did\"\n",
    "generated_text = lstm_model.generate(sp, prompt, max_length=50, eos_token_id=None, temperature=0.9, device=\"mps\")\n",
    "print(f\"Generated text: {generated_text}\")"
   ]
  },
  {
   "cell_type": "markdown",
   "id": "6a67bb18-d44e-4cbf-8186-b84e2208fa44",
   "metadata": {},
   "source": [
    "<h1>4. Transformer Model</h1>"
   ]
  },
  {
   "cell_type": "code",
   "execution_count": 11,
   "id": "566f4d9c-dcc5-4734-9813-62a879c3ba95",
   "metadata": {},
   "outputs": [],
   "source": [
    "from transformer_model import TransformerLanguageModel\n",
    "import torch\n",
    "import sentencepiece as spm\n",
    "\n",
    "# Trained tokenizer\n",
    "sp = spm.SentencePieceProcessor()\n",
    "model_prefix = \"bpe_tokenizer\"\n",
    "sp.load(f'{model_prefix}.model')\n",
    "tokenizer = sp\n",
    "\n",
    "device = \"mps\"\n",
    "\n",
    "# transformer_model = TransformerLanguageModel(tokenizer.get_piece_size())\n",
    "# transformer_model.to(device)"
   ]
  },
  {
   "cell_type": "markdown",
   "id": "d017cee5-a380-4bbd-8c9c-e48c852269fa",
   "metadata": {},
   "source": [
    "<h3>Load model</h3>"
   ]
  },
  {
   "cell_type": "code",
   "execution_count": 12,
   "id": "8687cbad-0933-46bb-a9ed-47c1bb527cfc",
   "metadata": {},
   "outputs": [
    {
     "data": {
      "text/plain": [
       "<All keys matched successfully>"
      ]
     },
     "execution_count": 12,
     "metadata": {},
     "output_type": "execute_result"
    }
   ],
   "source": [
    "import torch\n",
    "import sentencepiece as spm\n",
    "from pathlib import Path\n",
    "\n",
    "MODEL_PATH = Path(\"models\")\n",
    "MODEL_NAME = \"transformer_language_model.pth\"\n",
    "MODEL_SAVE_PATH = MODEL_PATH / MODEL_NAME\n",
    "\n",
    "transformer_model = TransformerLanguageModel(sp.get_piece_size()).to(\"mps\")\n",
    "\n",
    "# Load the saved state_dict of module_0 \n",
    "transformer_model.load_state_dict(torch.load(f=MODEL_SAVE_PATH, weights_only=True))"
   ]
  },
  {
   "cell_type": "markdown",
   "id": "60c4ed14-1fed-4e3a-8924-d9c8685c0a29",
   "metadata": {},
   "source": [
    "<h3>Train model</h3>"
   ]
  },
  {
   "cell_type": "code",
   "execution_count": 13,
   "id": "f6707bd2-a273-4a06-b3e5-fb1393d9efd3",
   "metadata": {},
   "outputs": [],
   "source": [
    "# from textdataset import TextDataSet\n",
    "# import os\n",
    "\n",
    "# tds = TextDataSet(os.getcwd()+\"/data/train.jsonl\", sp).train_model(transformer_model)"
   ]
  },
  {
   "cell_type": "markdown",
   "id": "0d504b1a-ebf9-471c-a38e-bbd185e62c86",
   "metadata": {},
   "source": [
    "<h3>Save model</h3>"
   ]
  },
  {
   "cell_type": "code",
   "execution_count": 14,
   "id": "cba7e3f2-685a-449b-92a0-d7bf2d90a09b",
   "metadata": {},
   "outputs": [],
   "source": [
    "# # Saving our PyTorch model\n",
    "# from pathlib import Path\n",
    "\n",
    "# # 1. Create model's directory\n",
    "# MODEL_PATH = Path(\"models\")\n",
    "# MODEL_PATH.mkdir(parents=True, exist_ok=True)\n",
    "\n",
    "# # 2. Create model save path\n",
    "# MODEL_NAME = \"transformer_language_model.pth\"\n",
    "# MODEL_SAVE_PATH = MODEL_PATH / MODEL_NAME\n",
    "\n",
    "# # 3. Save the model state dict\n",
    "# torch.save(obj=transformer_model.state_dict(),f=MODEL_SAVE_PATH)\n",
    "# print(\"saving complete\")"
   ]
  },
  {
   "cell_type": "markdown",
   "id": "3244f94f-aa34-430b-8cde-2bd98d931a44",
   "metadata": {},
   "source": [
    "<h3>Generate from prompt</h3>"
   ]
  },
  {
   "cell_type": "code",
   "execution_count": 15,
   "id": "bd0d93c9-c5f9-4474-b694-528428a6692b",
   "metadata": {},
   "outputs": [
    {
     "name": "stdout",
     "output_type": "stream",
     "text": [
      "Generated text: not not not not not not not not not not not not not not not not not not not not not not not not not not not not not not not not not not not not not not not not not not not not not not not not not not\n"
     ]
    }
   ],
   "source": [
    "# Example usage of the generate method\n",
    "# prompt = \"Which do you prefer? Cats or Cows?\"\n",
    "prompt = \"hi, this point the army should unite and there await the enemy. It was plain that Armfeldt had thought out that plan long ago and now expounded it not so much to answer the questions putwhich, in fact, his plan did\"\n",
    "generated_text = transformer_model.generate(sp, prompt, max_length=50, eos_token_id=None, temperature=0.9, device=\"mps\")\n",
    "print(f\"Generated text: {generated_text}\")"
   ]
  },
  {
   "cell_type": "code",
   "execution_count": null,
   "id": "0c6ade3d-047d-4d4a-b4c6-12eb57f3973b",
   "metadata": {},
   "outputs": [],
   "source": []
  }
 ],
 "metadata": {
  "kernelspec": {
   "display_name": "Python 3 (ipykernel)",
   "language": "python",
   "name": "python3"
  },
  "language_info": {
   "codemirror_mode": {
    "name": "ipython",
    "version": 3
   },
   "file_extension": ".py",
   "mimetype": "text/x-python",
   "name": "python",
   "nbconvert_exporter": "python",
   "pygments_lexer": "ipython3",
   "version": "3.12.7"
  }
 },
 "nbformat": 4,
 "nbformat_minor": 5
}
