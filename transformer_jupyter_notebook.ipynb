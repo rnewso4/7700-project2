{
 "cells": [
  {
   "cell_type": "markdown",
   "id": "ebc97dbb-198b-4b7d-987f-f096ec215d43",
   "metadata": {},
   "source": [
    "<h1>Load Tokenizer and Instantiate Model</h1>"
   ]
  },
  {
   "cell_type": "code",
   "execution_count": 1,
   "id": "a6b56093-4905-4a68-aebb-1f061d4ff990",
   "metadata": {},
   "outputs": [],
   "source": [
    "from transformer_model import TransformerLanguageModel\n",
    "import torch\n",
    "import sentencepiece as spm\n",
    "from transformers import BertTokenizer  # Or any other tokenizer you prefer\n",
    "\n",
    "# Trained tokenizer\n",
    "sp = spm.SentencePieceProcessor()\n",
    "model_prefix = \"bpe_tokenizer\"\n",
    "sp.load(f'{model_prefix}.model')\n",
    "tokenizer = sp\n",
    "\n",
    "device = \"mps\""
   ]
  },
  {
   "cell_type": "markdown",
   "id": "9b8643d4-9a23-4e8b-9bfc-2156986b9a38",
   "metadata": {},
   "source": [
    "<h1>Instantiate New Model</h1>\n",
    "\n",
    "Uncomment the code below to train a new model"
   ]
  },
  {
   "cell_type": "code",
   "execution_count": 2,
   "id": "d2d7f5cc-75d6-4c74-81a7-b452802c62a5",
   "metadata": {},
   "outputs": [
    {
     "data": {
      "text/plain": [
       "TransformerLanguageModel(\n",
       "  (token_embedding): Embedding(10000, 360)\n",
       "  (positional_encoding): PositionalEncoding(\n",
       "    (dropout): Dropout(p=0.1, inplace=False)\n",
       "  )\n",
       "  (encoder_layer): TransformerEncoderLayer(\n",
       "    (self_attn): MultiheadAttention(\n",
       "      (out_proj): NonDynamicallyQuantizableLinear(in_features=360, out_features=360, bias=True)\n",
       "    )\n",
       "    (linear1): Linear(in_features=360, out_features=512, bias=True)\n",
       "    (dropout): Dropout(p=0.1, inplace=False)\n",
       "    (linear2): Linear(in_features=512, out_features=360, bias=True)\n",
       "    (norm1): LayerNorm((360,), eps=1e-05, elementwise_affine=True)\n",
       "    (norm2): LayerNorm((360,), eps=1e-05, elementwise_affine=True)\n",
       "    (dropout1): Dropout(p=0.1, inplace=False)\n",
       "    (dropout2): Dropout(p=0.1, inplace=False)\n",
       "  )\n",
       "  (transformer_encoder): TransformerEncoder(\n",
       "    (layers): ModuleList(\n",
       "      (0-2): 3 x TransformerEncoderLayer(\n",
       "        (self_attn): MultiheadAttention(\n",
       "          (out_proj): NonDynamicallyQuantizableLinear(in_features=360, out_features=360, bias=True)\n",
       "        )\n",
       "        (linear1): Linear(in_features=360, out_features=512, bias=True)\n",
       "        (dropout): Dropout(p=0.1, inplace=False)\n",
       "        (linear2): Linear(in_features=512, out_features=360, bias=True)\n",
       "        (norm1): LayerNorm((360,), eps=1e-05, elementwise_affine=True)\n",
       "        (norm2): LayerNorm((360,), eps=1e-05, elementwise_affine=True)\n",
       "        (dropout1): Dropout(p=0.1, inplace=False)\n",
       "        (dropout2): Dropout(p=0.1, inplace=False)\n",
       "      )\n",
       "    )\n",
       "  )\n",
       "  (output_layer): Linear(in_features=360, out_features=10000, bias=True)\n",
       ")"
      ]
     },
     "execution_count": 2,
     "metadata": {},
     "output_type": "execute_result"
    }
   ],
   "source": [
    "transformer_model = TransformerLanguageModel(tokenizer.get_piece_size())\n",
    "transformer_model.to(device)"
   ]
  },
  {
   "cell_type": "markdown",
   "id": "c82e33a1-e4f6-438f-a9ab-b52ab40ac1f4",
   "metadata": {},
   "source": [
    "<h1>Load Model</h1>\n",
    "\n",
    "Uncomment the code below to use the pre-existing model parameters"
   ]
  },
  {
   "cell_type": "code",
   "execution_count": 3,
   "id": "b9774d53-d51e-49ec-8c83-51848ede7951",
   "metadata": {},
   "outputs": [],
   "source": [
    "# import torch\n",
    "# import sentencepiece as spm\n",
    "# from pathlib import Path\n",
    "\n",
    "# MODEL_PATH = Path(\"models\")\n",
    "# MODEL_NAME = \"transformer_language_model.pth\"\n",
    "# MODEL_SAVE_PATH = MODEL_PATH / MODEL_NAME\n",
    "\n",
    "# transformer_model = TransformerLanguageModel(sp.get_piece_size()).to(\"mps\")\n",
    "\n",
    "# # Load the saved state_dict of module_0 \n",
    "# transformer_model.load_state_dict(torch.load(f=MODEL_SAVE_PATH, weights_only=True))"
   ]
  },
  {
   "cell_type": "markdown",
   "id": "cf44513f-b8bb-4352-8429-b0e143aeab2f",
   "metadata": {},
   "source": [
    "<h1>Train Model</h1>"
   ]
  },
  {
   "cell_type": "code",
   "execution_count": 4,
   "id": "62bc10e7-efac-4d53-8f82-2dc3c3ea2e09",
   "metadata": {},
   "outputs": [
    {
     "name": "stdout",
     "output_type": "stream",
     "text": [
      "Epoch 1, Training Loss: 6.8453 | Validation loss: 6.2613\n",
      "Epoch 2, Training Loss: 6.0631 | Validation loss: 5.8805\n",
      "Epoch 3, Training Loss: 5.7973 | Validation loss: 5.6956\n",
      "Epoch 4, Training Loss: 5.6429 | Validation loss: 5.5763\n",
      "Epoch 5, Training Loss: 5.5354 | Validation loss: 5.4926\n",
      "Epoch 6, Training Loss: 5.4525 | Validation loss: 5.4283\n",
      "Epoch 7, Training Loss: 5.3841 | Validation loss: 5.3766\n",
      "Epoch 8, Training Loss: 5.3250 | Validation loss: 5.3316\n",
      "Epoch 9, Training Loss: 5.2720 | Validation loss: 5.2914\n",
      "Epoch 10, Training Loss: 5.2232 | Validation loss: 5.2571\n",
      "Epoch 11, Training Loss: 5.1795 | Validation loss: 5.2286\n",
      "Epoch 12, Training Loss: 5.1376 | Validation loss: 5.1982\n",
      "Epoch 13, Training Loss: 5.0984 | Validation loss: 5.1714\n",
      "Epoch 14, Training Loss: 5.0611 | Validation loss: 5.1487\n",
      "Epoch 15, Training Loss: 5.0258 | Validation loss: 5.1275\n",
      "Epoch 16, Training Loss: 4.9942 | Validation loss: 5.1092\n",
      "Epoch 17, Training Loss: 4.9638 | Validation loss: 5.0914\n",
      "Epoch 18, Training Loss: 4.9343 | Validation loss: 5.0762\n",
      "Epoch 19, Training Loss: 4.9074 | Validation loss: 5.0622\n",
      "Epoch 20, Training Loss: 4.8801 | Validation loss: 5.0512\n",
      "Epoch 21, Training Loss: 4.8551 | Validation loss: 5.0374\n",
      "Epoch 22, Training Loss: 4.8301 | Validation loss: 5.0271\n",
      "Epoch 23, Training Loss: 4.8065 | Validation loss: 5.0198\n",
      "Epoch 24, Training Loss: 4.7839 | Validation loss: 5.0094\n",
      "Epoch 25, Training Loss: 4.7618 | Validation loss: 5.0011\n",
      "Epoch 26, Training Loss: 4.7398 | Validation loss: 4.9933\n",
      "Epoch 27, Training Loss: 4.7193 | Validation loss: 4.9860\n",
      "Epoch 28, Training Loss: 4.6997 | Validation loss: 4.9805\n",
      "Epoch 29, Training Loss: 4.6798 | Validation loss: 4.9749\n",
      "Epoch 30, Training Loss: 4.6601 | Validation loss: 4.9694\n",
      "Epoch 31, Training Loss: 4.6424 | Validation loss: 4.9649\n",
      "Epoch 32, Training Loss: 4.6250 | Validation loss: 4.9613\n",
      "Epoch 33, Training Loss: 4.6078 | Validation loss: 4.9573\n",
      "Epoch 34, Training Loss: 4.5902 | Validation loss: 4.9549\n",
      "Epoch 35, Training Loss: 4.5737 | Validation loss: 4.9523\n",
      "Epoch 36, Training Loss: 4.5569 | Validation loss: 4.9484\n",
      "Epoch 37, Training Loss: 4.5410 | Validation loss: 4.9490\n",
      "Epoch 38, Training Loss: 4.5251 | Validation loss: 4.9452\n",
      "Epoch 39, Training Loss: 4.5105 | Validation loss: 4.9440\n",
      "Epoch 40, Training Loss: 4.4949 | Validation loss: 4.9458\n",
      "Epoch 41, Training Loss: 4.4795 | Validation loss: 4.9414\n",
      "Epoch 42, Training Loss: 4.4664 | Validation loss: 4.9414\n",
      "Epoch 43, Training Loss: 4.4517 | Validation loss: 4.9403\n",
      "Epoch 44, Training Loss: 4.4390 | Validation loss: 4.9417\n",
      "Epoch 45, Training Loss: 4.4250 | Validation loss: 4.9424\n",
      "Epoch 46, Training Loss: 4.4108 | Validation loss: 4.9430\n",
      "Epoch 47, Training Loss: 4.3986 | Validation loss: 4.9427\n",
      "Epoch 48, Training Loss: 4.3852 | Validation loss: 4.9425\n",
      "Epoch 49, Training Loss: 4.3724 | Validation loss: 4.9468\n",
      "Epoch 50, Training Loss: 4.3599 | Validation loss: 4.9453\n",
      "\n",
      "Train time: 2172.859 seconds\n"
     ]
    }
   ],
   "source": [
    "from textdataset import TextDataSet\n",
    "import os\n",
    "\n",
    "training_losses, validation_losses = TextDataSet(os.getcwd()+\"/data/train.jsonl\", sp).train_model(transformer_model, epochs=50)"
   ]
  },
  {
   "cell_type": "markdown",
   "id": "5492336b-2396-459e-b944-e746966f7124",
   "metadata": {},
   "source": [
    "<h1>Visualize</h1>"
   ]
  },
  {
   "cell_type": "code",
   "execution_count": 5,
   "id": "f44b15fa-50a7-4dc9-8e82-1a654c1ef627",
   "metadata": {},
   "outputs": [
    {
     "data": {
      "text/plain": [
       "<matplotlib.legend.Legend at 0x3549dc500>"
      ]
     },
     "execution_count": 5,
     "metadata": {},
     "output_type": "execute_result"
    },
    {
     "data": {
      "image/png": "[encoded data removed]",
      "text/plain": [
       "<Figure size 640x480 with 1 Axes>"
      ]
     },
     "metadata": {},
     "output_type": "display_data"
    }
   ],
   "source": [
    "import matplotlib.pyplot as plt\n",
    "# plot the loss curves\n",
    "plt.plot(training_losses, label=\"Train loss\")\n",
    "plt.plot(validation_losses, label=\"Validation loss\")\n",
    "plt.ylabel(\"Loss\")\n",
    "plt.xlabel(\"Epochs\")\n",
    "plt.legend()"
   ]
  },
  {
   "cell_type": "markdown",
   "id": "80ec397b-04e0-4030-a16e-6a67a1c93ac2",
   "metadata": {},
   "source": [
    "<h1>Save Model</h1>"
   ]
  },
  {
   "cell_type": "code",
   "execution_count": 6,
   "id": "02b59516-59d7-4f2d-a214-906555d2df98",
   "metadata": {},
   "outputs": [
    {
     "name": "stdout",
     "output_type": "stream",
     "text": [
      "saving complete\n"
     ]
    }
   ],
   "source": [
    "# Saving our PyTorch model\n",
    "from pathlib import Path\n",
    "\n",
    "# 1. Create model's directory\n",
    "MODEL_PATH = Path(\"models\")\n",
    "MODEL_PATH.mkdir(parents=True, exist_ok=True)\n",
    "\n",
    "# 2. Create model save path\n",
    "MODEL_NAME = \"transformer_language_model.pth\"\n",
    "MODEL_SAVE_PATH = MODEL_PATH / MODEL_NAME\n",
    "\n",
    "# 3. Save the model state dict\n",
    "torch.save(obj=transformer_model.state_dict(),f=MODEL_SAVE_PATH)\n",
    "print(\"saving complete\")"
   ]
  },
  {
   "cell_type": "markdown",
   "id": "35e943ea-4f33-47c5-a095-bbca6213a908",
   "metadata": {},
   "source": [
    "<h1>Evaluate Model</h1>"
   ]
  },
  {
   "cell_type": "code",
   "execution_count": 9,
   "id": "9f3d2219-1f6d-4f32-b718-98a6bae79280",
   "metadata": {},
   "outputs": [
    {
     "name": "stdout",
     "output_type": "stream",
     "text": [
      "Perplexity: 140.4729461669922 | Bleu score: 0.006794723614329385\n"
     ]
    }
   ],
   "source": [
    "from textdataset import TextDataSet\n",
    "import os\n",
    "\n",
    "tds = TextDataSet(os.getcwd()+\"/data/train.jsonl\", sp).evalutate_model(transformer_model)"
   ]
  },
  {
   "cell_type": "markdown",
   "id": "fdf0b79c-eedc-4ea4-b739-6cd4c05c0641",
   "metadata": {},
   "source": [
    "<h1>Generate from prompts</h1>"
   ]
  },
  {
   "cell_type": "code",
   "execution_count": 10,
   "id": "5f3a9c7a-5b27-4686-a145-615f2bff53ff",
   "metadata": {},
   "outputs": [
    {
     "name": "stdout",
     "output_type": "stream",
     "text": [
      "Generated text: Then he said the letter. The highest degree; Almightys of that on a profession. The chiefs, do, who has the foe the city. I must meet here. I know of her position, it. Pty. I a good\n"
     ]
    }
   ],
   "source": [
    "# Example usage of the generate method\n",
    "prompt = \"Will I pass this class?\"\n",
    "generated_text = transformer_model.generate(sp, prompt, max_length=50, eos_token_id=0, temperature=0.9, device=\"mps\")\n",
    "print(f\"Generated text: {generated_text}\")"
   ]
  },
  {
   "cell_type": "code",
   "execution_count": null,
   "id": "b16b3983-7b81-46db-8a2b-1d6f807c461a",
   "metadata": {},
   "outputs": [],
   "source": []
  }
 ],
 "metadata": {
  "kernelspec": {
   "display_name": "Python 3 (ipykernel)",
   "language": "python",
   "name": "python3"
  },
  "language_info": {
   "codemirror_mode": {
    "name": "ipython",
    "version": 3
   },
   "file_extension": ".py",
   "mimetype": "text/x-python",
   "name": "python",
   "nbconvert_exporter": "python",
   "pygments_lexer": "ipython3",
   "version": "3.12.7"
  }
 },
 "nbformat": 4,
 "nbformat_minor": 5
}
