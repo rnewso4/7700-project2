{
 "cells": [
  {
   "cell_type": "markdown",
   "id": "c0000b85-8ef7-409f-87b1-955afb541062",
   "metadata": {},
   "source": [
    "<h1>Load Tokenizer and Instantiate Model</h1>"
   ]
  },
  {
   "cell_type": "code",
   "execution_count": 1,
   "id": "763ec1e0-e4ad-4cff-aa70-348b21be9dbd",
   "metadata": {},
   "outputs": [
    {
     "data": {
      "text/plain": [
       "RNNModule(\n",
       "  (embedding): Embedding(10000, 300, padding_idx=0)\n",
       "  (rnn): RNN(300, 512, num_layers=3, batch_first=True, dropout=0.4)\n",
       "  (fc): Linear(in_features=512, out_features=10000, bias=True)\n",
       ")"
      ]
     },
     "execution_count": 1,
     "metadata": {},
     "output_type": "execute_result"
    }
   ],
   "source": [
    "from rnn_module import RNNModule\n",
    "import torch\n",
    "import sentencepiece as spm\n",
    "from transformers import BertTokenizer  # Or any other tokenizer you prefer\n",
    "\n",
    "# Trained tokenizer\n",
    "sp = spm.SentencePieceProcessor()\n",
    "model_prefix = \"bpe_tokenizer\"\n",
    "sp.load(f'{model_prefix}.model')\n",
    "tokenizer = sp\n",
    "\n",
    "device = \"mps\"\n",
    "\n",
    "rnn_model = RNNModule(tokenizer.get_piece_size())\n",
    "rnn_model.to(device)"
   ]
  },
  {
   "cell_type": "markdown",
   "id": "66b9d721-77dd-4ea3-a029-8a538357a43a",
   "metadata": {},
   "source": [
    "<h1>Load Model</h1>"
   ]
  },
  {
   "cell_type": "code",
   "execution_count": 2,
   "id": "2adc0682-0a20-4930-beab-63112dd7f6a3",
   "metadata": {},
   "outputs": [
    {
     "data": {
      "text/plain": [
       "<All keys matched successfully>"
      ]
     },
     "execution_count": 2,
     "metadata": {},
     "output_type": "execute_result"
    }
   ],
   "source": [
    "import torch\n",
    "import sentencepiece as spm\n",
    "from pathlib import Path\n",
    "\n",
    "MODEL_PATH = Path(\"models\")\n",
    "MODEL_NAME = \"rnn_language_model.pth\"\n",
    "MODEL_SAVE_PATH = MODEL_PATH / MODEL_NAME\n",
    "\n",
    "rnn_model = RNNModule(sp.get_piece_size()).to(\"mps\")\n",
    "\n",
    "# Load the saved state_dict of module_0 \n",
    "rnn_model.load_state_dict(torch.load(f=MODEL_SAVE_PATH, weights_only=True))"
   ]
  },
  {
   "cell_type": "markdown",
   "id": "cdc419b3-03f3-495a-8fd0-1bb1f2099a97",
   "metadata": {},
   "source": [
    "<h1>Train model</h1>"
   ]
  },
  {
   "cell_type": "code",
   "execution_count": 3,
   "id": "7be94036-f93a-490d-a41c-e08851136068",
   "metadata": {},
   "outputs": [],
   "source": [
    "# from textdataset import TextDataSet\n",
    "# import os\n",
    "\n",
    "# training_losses, validation_losses = TextDataSet(os.getcwd()+\"/data/train.jsonl\", sp).train_model(rnn_model, epochs=50)"
   ]
  },
  {
   "cell_type": "markdown",
   "id": "b9ea4635-5147-4f52-85f4-9bd96684804b",
   "metadata": {},
   "source": [
    "<h1>Visualize</h1>"
   ]
  },
  {
   "cell_type": "code",
   "execution_count": 4,
   "id": "1a04c6bc-fca8-43d4-b104-bf900efdaabb",
   "metadata": {},
   "outputs": [],
   "source": [
    "# import matplotlib.pyplot as plt\n",
    "# # plot the loss curves\n",
    "# plt.plot(training_losses, label=\"Train loss\")\n",
    "# plt.plot(validation_losses, label=\"Validation loss\")\n",
    "# plt.ylabel(\"Loss\")\n",
    "# plt.xlabel(\"Epochs\")\n",
    "# plt.legend()"
   ]
  },
  {
   "cell_type": "markdown",
   "id": "13f7e044-774e-47dc-97c0-ca370cd378ae",
   "metadata": {},
   "source": [
    "<h1>Save model</h1>"
   ]
  },
  {
   "cell_type": "code",
   "execution_count": 5,
   "id": "9932683f-9a16-43f8-928b-579e731a31ed",
   "metadata": {},
   "outputs": [],
   "source": [
    "# # Saving our PyTorch model\n",
    "# from pathlib import Path\n",
    "\n",
    "# # 1. Create model's directory\n",
    "# MODEL_PATH = Path(\"models\")\n",
    "# MODEL_PATH.mkdir(parents=True, exist_ok=True)\n",
    "\n",
    "# # 2. Create model save path\n",
    "# MODEL_NAME = \"rnn_language_model.pth\"\n",
    "# MODEL_SAVE_PATH = MODEL_PATH / MODEL_NAME\n",
    "\n",
    "# # 3. Save the model state dict\n",
    "# torch.save(obj=rnn_model.state_dict(),f=MODEL_SAVE_PATH)\n",
    "# print(\"saving complete\")"
   ]
  },
  {
   "cell_type": "markdown",
   "id": "f7e78eec-a263-412d-a774-4a267dccf117",
   "metadata": {},
   "source": [
    "<h1>Evaluate model</h1>"
   ]
  },
  {
   "cell_type": "code",
   "execution_count": 6,
   "id": "a8c0a311-f774-41a8-ba28-4a959f362a0c",
   "metadata": {},
   "outputs": [],
   "source": [
    "# from textdataset import TextDataSet\n",
    "# import os\n",
    "\n",
    "# tds = TextDataSet(os.getcwd()+\"/data/train.jsonl\", sp).evalutate_model(rnn_model)"
   ]
  },
  {
   "cell_type": "markdown",
   "id": "214660fb-dfab-414e-93e8-f198b970c2f7",
   "metadata": {},
   "source": [
    "<h1>Generate from prompts</h1>"
   ]
  },
  {
   "cell_type": "code",
   "execution_count": 9,
   "id": "9bdb9746-aa79-4a8a-a21b-6de52462316e",
   "metadata": {},
   "outputs": [
    {
     "name": "stdout",
     "output_type": "stream",
     "text": [
      "Generated text: Go from hand. This American light across all this way with several me of things that the breakfast and I know, because he considered in natures of them, although I want to us: Alas where the idea of woodneys stern seeing me\n"
     ]
    }
   ],
   "source": [
    "# Example usage of the generate method\n",
    "#prompt = \"unless he wished to show that he, too, could have an opinion, but he urged that at this point the army should unite and there await the enemy. It was plain that Armfeldt had thought out that plan long ago and now expounded it not so much to answer the questions putwhich, in fact, his plan did\"\n",
    "prompt = \"Will I pass this class?\"\n",
    "generated_text = rnn_model.generate(sp, prompt, max_length=50, eos_token_id=2, temperature=0.9, device=\"mps\")\n",
    "print(f\"Generated text: {generated_text}\")"
   ]
  },
  {
   "cell_type": "code",
   "execution_count": null,
   "id": "ba466dd4-be0e-4a48-8a27-df677d021eeb",
   "metadata": {},
   "outputs": [],
   "source": []
  },
  {
   "cell_type": "code",
   "execution_count": null,
   "id": "316d75ea-603e-4a4d-9907-93b14cfa6d7a",
   "metadata": {},
   "outputs": [],
   "source": []
  }
 ],
 "metadata": {
  "kernelspec": {
   "display_name": "Python 3 (ipykernel)",
   "language": "python",
   "name": "python3"
  },
  "language_info": {
   "codemirror_mode": {
    "name": "ipython",
    "version": 3
   },
   "file_extension": ".py",
   "mimetype": "text/x-python",
   "name": "python",
   "nbconvert_exporter": "python",
   "pygments_lexer": "ipython3",
   "version": "3.12.7"
  }
 },
 "nbformat": 4,
 "nbformat_minor": 5
}
