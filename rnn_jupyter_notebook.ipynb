{
 "cells": [
  {
   "cell_type": "markdown",
   "id": "c0000b85-8ef7-409f-87b1-955afb541062",
   "metadata": {},
   "source": [
    "<h1>Load Tokenizer and Instantiate Model</h1>"
   ]
  },
  {
   "cell_type": "code",
   "execution_count": 1,
   "id": "763ec1e0-e4ad-4cff-aa70-348b21be9dbd",
   "metadata": {},
   "outputs": [],
   "source": [
    "from rnn_module import RNNModule\n",
    "import torch\n",
    "import sentencepiece as spm\n",
    "from transformers import BertTokenizer  # Or any other tokenizer you prefer\n",
    "\n",
    "# Trained tokenizer\n",
    "sp = spm.SentencePieceProcessor()\n",
    "model_prefix = \"bpe_tokenizer\"\n",
    "sp.load(f'{model_prefix}.model')\n",
    "tokenizer = sp\n",
    "\n",
    "device = \"mps\""
   ]
  },
  {
   "cell_type": "markdown",
   "id": "f6d3934b-b340-4706-8ab2-3d1600f833e0",
   "metadata": {},
   "source": [
    "<h1>Instantiate New Model</h1>\n",
    "\n",
    "Uncomment the code below to train a new model"
   ]
  },
  {
   "cell_type": "code",
   "execution_count": 2,
   "id": "682c9860-70b7-4d36-b2a9-345f402489b1",
   "metadata": {},
   "outputs": [],
   "source": [
    "# rnn_model = RNNModule(tokenizer.get_piece_size())\n",
    "# rnn_model.to(device)"
   ]
  },
  {
   "cell_type": "markdown",
   "id": "66b9d721-77dd-4ea3-a029-8a538357a43a",
   "metadata": {},
   "source": [
    "<h1>Load Model</h1>\n",
    "\n",
    "Uncomment the code below to use the pre-existing model parameters"
   ]
  },
  {
   "cell_type": "code",
   "execution_count": 3,
   "id": "2adc0682-0a20-4930-beab-63112dd7f6a3",
   "metadata": {},
   "outputs": [
    {
     "data": {
      "text/plain": [
       "<All keys matched successfully>"
      ]
     },
     "execution_count": 3,
     "metadata": {},
     "output_type": "execute_result"
    }
   ],
   "source": [
    "import torch\n",
    "import sentencepiece as spm\n",
    "from pathlib import Path\n",
    "\n",
    "MODEL_PATH = Path(\"models\")\n",
    "MODEL_NAME = \"rnn_language_model.pth\"\n",
    "MODEL_SAVE_PATH = MODEL_PATH / MODEL_NAME\n",
    "\n",
    "rnn_model = RNNModule(sp.get_piece_size()).to(\"mps\")\n",
    "\n",
    "# Load the saved state_dict of module_0 \n",
    "rnn_model.load_state_dict(torch.load(f=MODEL_SAVE_PATH, weights_only=True))"
   ]
  },
  {
   "cell_type": "markdown",
   "id": "cdc419b3-03f3-495a-8fd0-1bb1f2099a97",
   "metadata": {},
   "source": [
    "<h1>Train model</h1>"
   ]
  },
  {
   "cell_type": "code",
   "execution_count": 4,
   "id": "7be94036-f93a-490d-a41c-e08851136068",
   "metadata": {},
   "outputs": [
    {
     "name": "stdout",
     "output_type": "stream",
     "text": [
      "Epoch 1, Training Loss: 4.7718 | Validation loss: 4.6917\n",
      "Epoch 2, Training Loss: 4.7535 | Validation loss: 4.6965\n",
      "Epoch 3, Training Loss: 4.7418 | Validation loss: 4.7000\n",
      "\n",
      "Train time: 108.836 seconds\n"
     ]
    }
   ],
   "source": [
    "from textdataset import TextDataSet\n",
    "import os\n",
    "\n",
    "training_losses, validation_losses = TextDataSet(os.getcwd()+\"/data/train.jsonl\", sp).train_model(rnn_model)"
   ]
  },
  {
   "cell_type": "markdown",
   "id": "b9ea4635-5147-4f52-85f4-9bd96684804b",
   "metadata": {},
   "source": [
    "<h1>Visualize</h1>"
   ]
  },
  {
   "cell_type": "code",
   "execution_count": 5,
   "id": "1a04c6bc-fca8-43d4-b104-bf900efdaabb",
   "metadata": {},
   "outputs": [
    {
     "data": {
      "text/plain": [
       "<matplotlib.legend.Legend at 0x3593acef0>"
      ]
     },
     "execution_count": 5,
     "metadata": {},
     "output_type": "execute_result"
    },
    {
     "data": {
      "image/png": "[encoded data removed]",
      "text/plain": [
       "<Figure size 640x480 with 1 Axes>"
      ]
     },
     "metadata": {},
     "output_type": "display_data"
    }
   ],
   "source": [
    "import matplotlib.pyplot as plt\n",
    "# plot the loss curves\n",
    "plt.plot(training_losses, label=\"Train loss\")\n",
    "plt.plot(validation_losses, label=\"Validation loss\")\n",
    "plt.ylabel(\"Loss\")\n",
    "plt.xlabel(\"Epochs\")\n",
    "plt.legend()"
   ]
  },
  {
   "cell_type": "markdown",
   "id": "13f7e044-774e-47dc-97c0-ca370cd378ae",
   "metadata": {},
   "source": [
    "<h1>Save model</h1>"
   ]
  },
  {
   "cell_type": "code",
   "execution_count": 6,
   "id": "9932683f-9a16-43f8-928b-579e731a31ed",
   "metadata": {},
   "outputs": [
    {
     "name": "stdout",
     "output_type": "stream",
     "text": [
      "saving complete\n"
     ]
    }
   ],
   "source": [
    "# Saving our PyTorch model\n",
    "from pathlib import Path\n",
    "\n",
    "# 1. Create model's directory\n",
    "MODEL_PATH = Path(\"models\")\n",
    "MODEL_PATH.mkdir(parents=True, exist_ok=True)\n",
    "\n",
    "# 2. Create model save path\n",
    "MODEL_NAME = \"rnn_language_model.pth\"\n",
    "MODEL_SAVE_PATH = MODEL_PATH / MODEL_NAME\n",
    "\n",
    "# 3. Save the model state dict\n",
    "torch.save(obj=rnn_model.state_dict(),f=MODEL_SAVE_PATH)\n",
    "print(\"saving complete\")"
   ]
  },
  {
   "cell_type": "markdown",
   "id": "f7e78eec-a263-412d-a774-4a267dccf117",
   "metadata": {},
   "source": [
    "<h1>Evaluate model</h1>"
   ]
  },
  {
   "cell_type": "code",
   "execution_count": 7,
   "id": "a8c0a311-f774-41a8-ba28-4a959f362a0c",
   "metadata": {},
   "outputs": [
    {
     "name": "stdout",
     "output_type": "stream",
     "text": [
      "Perplexity: 137.7003936767578 | Bleu score: 0.005967885492333538\n"
     ]
    }
   ],
   "source": [
    "from textdataset import TextDataSet\n",
    "import os\n",
    "\n",
    "tds = TextDataSet(os.getcwd()+\"/data/train.jsonl\", sp).evalutate_model(rnn_model)"
   ]
  },
  {
   "cell_type": "markdown",
   "id": "214660fb-dfab-414e-93e8-f198b970c2f7",
   "metadata": {},
   "source": [
    "<h1>Generate from prompts</h1>"
   ]
  },
  {
   "cell_type": "code",
   "execution_count": 9,
   "id": "9bdb9746-aa79-4a8a-a21b-6de52462316e",
   "metadata": {},
   "outputs": [
    {
     "name": "stdout",
     "output_type": "stream",
     "text": [
      "Generated text: No thousand rubles on the coming to get our ship on his disvolution! said: Sohriilry influence, with the neighborhood you will decide and turning out of my lips, perhaps not begin to our promise: We saw a quarter. Oh\n"
     ]
    }
   ],
   "source": [
    "# Example usage of the generate method\n",
    "prompt = \"Do you prefer pizza or hamburgers?\"\n",
    "generated_text = rnn_model.generate(sp, prompt, max_length=50, eos_token_id=2, temperature=0.8, device=\"mps\")\n",
    "print(f\"Generated text: {generated_text}\")"
   ]
  },
  {
   "cell_type": "code",
   "execution_count": null,
   "id": "ba466dd4-be0e-4a48-8a27-df677d021eeb",
   "metadata": {},
   "outputs": [],
   "source": []
  }
 ],
 "metadata": {
  "kernelspec": {
   "display_name": "Python 3 (ipykernel)",
   "language": "python",
   "name": "python3"
  },
  "language_info": {
   "codemirror_mode": {
    "name": "ipython",
    "version": 3
   },
   "file_extension": ".py",
   "mimetype": "text/x-python",
   "name": "python",
   "nbconvert_exporter": "python",
   "pygments_lexer": "ipython3",
   "version": "3.12.7"
  }
 },
 "nbformat": 4,
 "nbformat_minor": 5
}
